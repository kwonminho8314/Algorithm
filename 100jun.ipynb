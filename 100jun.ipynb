{
  "nbformat": 4,
  "nbformat_minor": 0,
  "metadata": {
    "colab": {
      "provenance": [],
      "collapsed_sections": []
    },
    "kernelspec": {
      "name": "python3",
      "display_name": "Python 3"
    },
    "language_info": {
      "name": "python"
    }
  },
  "cells": [
    {
      "cell_type": "code",
      "source": [
        "#11720\n",
        "n = int(input())\n",
        "a = list(input())\n",
        "sum = 0 \n",
        "for i in a:\n",
        "  sum+=int(i)\n",
        "print(sum)"
      ],
      "metadata": {
        "colab": {
          "base_uri": "https://localhost:8080/"
        },
        "id": "bNswPt7gZB15",
        "outputId": "6f396a1f-1718-4213-8056-23a5174e9b8b"
      },
      "execution_count": 6,
      "outputs": [
        {
          "output_type": "stream",
          "name": "stdout",
          "text": [
            "11\n",
            "10987654321\n",
            "46\n"
          ]
        }
      ]
    },
    {
      "cell_type": "code",
      "source": [
        "#1546\n",
        "n = int(input())\n",
        "score = list(map(int, input().split()))\n",
        "max_score = max(score)\n",
        "\n",
        "new_score = []\n",
        "new_score_add = 0\n",
        "\n",
        "for i in score:\n",
        "  new = (i/max_score)*100\n",
        "  new_score.append(new)\n",
        "  new_score_add += new\n",
        "print(new_score_add/len(new_score))"
      ],
      "metadata": {
        "colab": {
          "base_uri": "https://localhost:8080/"
        },
        "id": "LHk_4u1Zd5an",
        "outputId": "b01f5689-54ff-4d6b-9d45-cb8d404024bb"
      },
      "execution_count": 11,
      "outputs": [
        {
          "output_type": "stream",
          "name": "stdout",
          "text": [
            "4\n",
            "1 100 100 100\n",
            "75.25\n"
          ]
        }
      ]
    },
    {
      "cell_type": "code",
      "source": [],
      "metadata": {
        "id": "ZDSeE2M0e_x8"
      },
      "execution_count": null,
      "outputs": []
    }
  ]
}