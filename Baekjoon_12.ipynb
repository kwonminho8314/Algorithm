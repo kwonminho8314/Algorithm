{
  "nbformat": 4,
  "nbformat_minor": 0,
  "metadata": {
    "colab": {
      "provenance": []
    },
    "kernelspec": {
      "name": "python3",
      "display_name": "Python 3"
    },
    "language_info": {
      "name": "python"
    }
  },
  "cells": [
    {
      "cell_type": "markdown",
      "source": [
        "##문제\n",
        "수 N개 A1, A2, ..., AN이 주어진다. A를 오름차순 정렬했을 때, 앞에서부터 K번째 있는 수를 구하는 프로그램을 작성하시오.\n",
        "\n",
        "##입력\n",
        "첫째 줄에 N(1 ≤ N ≤ 5,000,000)과 K (1 ≤ K ≤ N)이 주어진다.\n",
        "\n",
        "둘째에는 A1, A2, ..., AN이 주어진다. (-109 ≤ Ai ≤ 109)\n",
        "\n",
        "##출력\n",
        "A를 정렬했을 때, 앞에서부터 K번째 있는 수를 출력한다."
      ],
      "metadata": {
        "id": "ChsSl9oJmQns"
      }
    },
    {
      "cell_type": "code",
      "execution_count": 11,
      "metadata": {
        "colab": {
          "base_uri": "https://localhost:8080/"
        },
        "id": "Rg--15bmmFHG",
        "outputId": "175c0cc8-3595-47f8-a0aa-63fbbdff93f0"
      },
      "outputs": [
        {
          "output_type": "stream",
          "name": "stdout",
          "text": [
            "5 2\n",
            "4 1 2 3 5\n",
            "2\n"
          ]
        }
      ],
      "source": [
        "num, k = map(int, input().split())\n",
        "num_list = list(map(int, input().split()))\n",
        "\n",
        "num_list.sort()\n",
        "\n",
        "print(num_list[k-1])"
      ]
    },
    {
      "cell_type": "code",
      "source": [],
      "metadata": {
        "id": "1KpHOZ-sn-aj"
      },
      "execution_count": null,
      "outputs": []
    }
  ]
}