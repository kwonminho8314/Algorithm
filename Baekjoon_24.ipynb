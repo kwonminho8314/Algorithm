{
  "nbformat": 4,
  "nbformat_minor": 0,
  "metadata": {
    "colab": {
      "provenance": []
    },
    "kernelspec": {
      "name": "python3",
      "display_name": "Python 3"
    },
    "language_info": {
      "name": "python"
    }
  },
  "cells": [
    {
      "cell_type": "markdown",
      "source": [
        "##1541\n",
        "###문제\n",
        "세준이는 양수와 +, -, 그리고 괄호를 가지고 식을 만들었다. 그리고 나서 세준이는 괄호를 모두 지웠다.\n",
        "\n",
        "그리고 나서 세준이는 괄호를 적절히 쳐서 이 식의 값을 최소로 만들려고 한다.\n",
        "\n",
        "괄호를 적절히 쳐서 이 식의 값을 최소로 만드는 프로그램을 작성하시오.\n",
        "\n",
        "###입력\n",
        "첫째 줄에 식이 주어진다. 식은 ‘0’~‘9’, ‘+’, 그리고 ‘-’만으로 이루어져 있고, 가장 처음과 마지막 문자는 숫자이다. 그리고 연속해서 두 개 이상의 연산자가 나타나지 않고, 5자리보다 많이 연속되는 숫자는 없다. 수는 0으로 시작할 수 있다. 입력으로 주어지는 식의 길이는 50보다 작거나 같다.\n",
        "\n",
        "###출력\n",
        "첫째 줄에 정답을 출력한다."
      ],
      "metadata": {
        "id": "3Ub2pTKxICVO"
      }
    },
    {
      "cell_type": "code",
      "source": [
        "#그리디 사용\n",
        "#식을 입력받고 -를 기준으로 split\n",
        "a = list(map(str,input().split('-')))\n",
        "\n",
        "#-로 나눈 그룹을 더한다\n",
        "def mysum(i):\n",
        "  sum = 0\n",
        "  temp = str(i).split('+')\n",
        "  for i in temp:\n",
        "    sum+=int(i)\n",
        "  return sum\n",
        "\n",
        "answer = 0\n",
        "\n",
        "for i in range(len(a)):\n",
        "  temp = mysum(a[i])\n",
        "  if i ==0:\n",
        "    answer += temp\n",
        "  else:\n",
        "    answer -= temp\n",
        "\n",
        "print(answer)"
      ],
      "metadata": {
        "colab": {
          "base_uri": "https://localhost:8080/"
        },
        "id": "oO2uybaJ_GiF",
        "outputId": "520c4413-377c-4a1a-e4f5-9278e1e58c5c"
      },
      "execution_count": 1,
      "outputs": [
        {
          "output_type": "stream",
          "name": "stdout",
          "text": [
            "100-40+50+74-30+29-45+43+11\n",
            "-222\n"
          ]
        }
      ]
    }
  ]
}