{
  "nbformat": 4,
  "nbformat_minor": 0,
  "metadata": {
    "colab": {
      "provenance": []
    },
    "kernelspec": {
      "name": "python3",
      "display_name": "Python 3"
    },
    "language_info": {
      "name": "python"
    }
  },
  "cells": [
    {
      "cell_type": "markdown",
      "source": [
        "##2750\n",
        "###문제\n",
        "N개의 수가 주어졌을 때, 이를 오름차순으로 정렬하는 프로그램을 작성하시오.\n",
        "\n",
        "###입력\n",
        "첫째 줄에 수의 개수 N(1 ≤ N ≤ 1,000)이 주어진다. 둘째 줄부터 N개의 줄에는 수가 주어진다. 이 수는 절댓값이 1,000보다 작거나 같은 정수이다. 수는 중복되지 않는다.\n",
        "\n",
        "###출력\n",
        "첫째 줄부터 N개의 줄에 오름차순으로 정렬한 결과를 한 줄에 하나씩 출력한다."
      ],
      "metadata": {
        "id": "3Ub2pTKxICVO"
      }
    },
    {
      "cell_type": "code",
      "source": [
        "#퀵 정렬 사용(Quick sort, 시간 복잡도 : 최선(O(nlogn)), 평균,최악(O(n^2)))\n",
        "\n",
        "n = int(input())\n",
        "#n개의 수 입력\n",
        "num = []\n",
        "for i in range(n):\n",
        "  a = int(input())\n",
        "  num.append(a)\n",
        "    \n",
        "\n",
        "def quick_sort(array):\n",
        "    \n",
        "    if len(array) <= 1: return array\n",
        "    \n",
        "    pivot, tail = array[0], array[1:]\n",
        "    \n",
        "    leftSide = [x for x in tail if x <= pivot]\n",
        "    rightSide = [x for x in tail if x > pivot]\n",
        "    \n",
        "    return quick_sort(leftSide) + [pivot] + quick_sort(rightSide)\n",
        "\n",
        "num = quick_sort(num)\n",
        "for i in range(n):\n",
        "  print(num[i])"
      ],
      "metadata": {
        "colab": {
          "base_uri": "https://localhost:8080/"
        },
        "id": "oO2uybaJ_GiF",
        "outputId": "1ee2e2c7-b527-4c90-a0a3-55ca03cb11a6"
      },
      "execution_count": 1,
      "outputs": [
        {
          "output_type": "stream",
          "name": "stdout",
          "text": [
            "3 16\n",
            "3\n",
            "5\n",
            "7\n",
            "11\n",
            "13\n"
          ]
        }
      ]
    }
  ]
}