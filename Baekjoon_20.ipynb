{
  "nbformat": 4,
  "nbformat_minor": 0,
  "metadata": {
    "colab": {
      "provenance": []
    },
    "kernelspec": {
      "name": "python3",
      "display_name": "Python 3"
    },
    "language_info": {
      "name": "python"
    }
  },
  "cells": [
    {
      "cell_type": "markdown",
      "source": [
        "##11724\n",
        "###문제\n",
        "방향 없는 그래프가 주어졌을 때, 연결 요소 (Connected Component)의 개수를 구하는 프로그램을 작성하시오.\n",
        "\n",
        "###입력\n",
        "첫째 줄에 정점의 개수 N과 간선의 개수 M이 주어진다. (1 ≤ N ≤ 1,000, 0 ≤ M ≤ N×(N-1)/2) 둘째 줄부터 M개의 줄에 간선의 양 끝점 u와 v가 주어진다. (1 ≤ u, v ≤ N, u ≠ v) 같은 간선은 한 번만 주어진다.\n",
        "\n",
        "###출력\n",
        "첫째 줄에 연결 요소의 개수를 출력한다."
      ],
      "metadata": {
        "id": "3Ub2pTKxICVO"
      }
    },
    {
      "cell_type": "code",
      "source": [
        "#깊이 우선 탐색 사용(시간 복잡도 : O(노드수 + 엣지수))\n",
        "#노드의 수, 엣지의 수\n",
        "n,m = map(int,input().split())\n",
        "#그래프를 저장할 인접 리스트\n",
        "a = [[] for _ in range(n+1)]\n",
        "#방문 기록 리스트\n",
        "visited = [False] * (n+1)\n",
        "\n",
        "#DFS 구현\n",
        "def DFS(v):\n",
        "  visited[v] = True\n",
        "  for i in a[v]:\n",
        "    if not visited[i]:\n",
        "      DFS(i)\n",
        "\n",
        "for _ in range(m):\n",
        "  s,e = map(int, input().split())\n",
        "  a[s].append(e)\n",
        "  a[e].append(s)\n",
        "\n",
        "count = 0\n",
        "\n",
        "for i in range(1,n+1):\n",
        "  if not visited[i]:\n",
        "    count += 1\n",
        "    DFS(i)\n",
        "\n",
        "print(count)"
      ],
      "metadata": {
        "colab": {
          "base_uri": "https://localhost:8080/"
        },
        "id": "-PZE7jE3m5o4",
        "outputId": "4aacd6b3-a8b9-4e20-baa6-fc847a3d3461"
      },
      "execution_count": 2,
      "outputs": [
        {
          "output_type": "stream",
          "name": "stdout",
          "text": [
            "6 5\n",
            "1 2\n",
            "2 5\n",
            "5 1\n",
            "3 4\n",
            "4 6\n",
            "2\n"
          ]
        }
      ]
    }
  ]
}