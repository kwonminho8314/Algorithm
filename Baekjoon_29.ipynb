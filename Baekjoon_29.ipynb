{
  "nbformat": 4,
  "nbformat_minor": 0,
  "metadata": {
    "colab": {
      "provenance": []
    },
    "kernelspec": {
      "name": "python3",
      "display_name": "Python 3"
    },
    "language_info": {
      "name": "python"
    }
  },
  "cells": [
    {
      "cell_type": "markdown",
      "source": [
        "##2587\n",
        "\n",
        "###문제\n",
        "어떤 수들이 있을 때, 그 수들을 대표하는 값으로 가장 흔하게 쓰이는 것은 평균이다. 평균은 주어진 모든 수의 합을 수의 개수로 나눈 것이다. 예를 들어 10, 40, 30, 60, 30의 평균은 (10 + 40 + 30 + 60 + 30) / 5 = 170 / 5 = 34가 된다.\n",
        "\n",
        "평균 이외의 또 다른 대표값으로 중앙값이라는 것이 있다. 중앙값은 주어진 수를 크기 순서대로 늘어 놓았을 때 가장 중앙에 놓인 값이다. 예를 들어 10, 40, 30, 60, 30의 경우, 크기 순서대로 늘어 놓으면\n",
        "\n",
        "10 30 30 40 60\n",
        "\n",
        "이 되고 따라서 중앙값은 30이 된다.\n",
        "\n",
        "다섯 개의 자연수가 주어질 때 이들의 평균과 중앙값을 구하는 프로그램을 작성하시오.\n",
        "\n",
        "###입력\n",
        "첫째 줄부터 다섯 번째 줄까지 한 줄에 하나씩 자연수가 주어진다. 주어지는 자연수는 100 보다 작은 10의 배수이다.\n",
        "\n",
        "###출력\n",
        "첫째 줄에는 평균을 출력하고, 둘째 줄에는 중앙값을 출력한다. 평균과 중앙값은 모두 자연수이다."
      ],
      "metadata": {
        "id": "3Ub2pTKxICVO"
      }
    },
    {
      "cell_type": "code",
      "source": [
        "#bubble sort\n",
        "num_list = []\n",
        "sum = 0\n",
        "\n",
        "for i in range(5):\n",
        "  num = int(input())\n",
        "  num_list.append(num)\n",
        "\n",
        "#buuble sort\n",
        "for i in range(len(num_list)-1):\n",
        "  for j in range(len(num_list)-1-i):\n",
        "    if num_list[j] > num_list[j+1]:\n",
        "      change = num_list[j]\n",
        "      num_list[j] = num_list[j+1]\n",
        "      num_list[j+1] = change\n",
        "\n",
        "\n",
        "for j in num_list:\n",
        "  sum+=j\n",
        "\n",
        "print(int(sum/5))\n",
        "print(num_list[2])"
      ],
      "metadata": {
        "colab": {
          "base_uri": "https://localhost:8080/"
        },
        "id": "oO2uybaJ_GiF",
        "outputId": "faf0538e-322f-4715-a128-348c836a19f8"
      },
      "execution_count": 1,
      "outputs": [
        {
          "output_type": "stream",
          "name": "stdout",
          "text": [
            "10\n",
            "40\n",
            "30\n",
            "60\n",
            "30\n",
            "34\n",
            "30\n"
          ]
        }
      ]
    },
    {
      "cell_type": "code",
      "source": [
        "10\n",
        "40\n",
        "30\n",
        "60\n",
        "30"
      ],
      "metadata": {
        "id": "I6rDFXbAMFH4"
      },
      "execution_count": null,
      "outputs": []
    }
  ]
}