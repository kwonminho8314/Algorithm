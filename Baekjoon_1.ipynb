{
  "nbformat": 4,
  "nbformat_minor": 0,
  "metadata": {
    "colab": {
      "provenance": [],
      "collapsed_sections": []
    },
    "kernelspec": {
      "name": "python3",
      "display_name": "Python 3"
    },
    "language_info": {
      "name": "python"
    }
  },
  "cells": [
    {
      "cell_type": "markdown",
      "source": [
        "###문제\n",
        "N개의 숫자가 공백 없이 쓰여있다. 이 숫자를 모두 합해서 출력하는 프로그램을 작성하시오.\n",
        "\n",
        "###입력\n",
        "첫째 줄에 숫자의 개수 N (1 ≤ N ≤ 100)이 주어진다. 둘째 줄에 숫자 N개가 공백없이 주어진다.\n",
        "\n",
        "###출력\n",
        "입력으로 주어진 숫자 N개의 합을 출력한다."
      ],
      "metadata": {
        "id": "X6n9mtYb2-Ew"
      }
    },
    {
      "cell_type": "code",
      "source": [
        "#11720\n",
        "n = int(input())\n",
        "a = list(input())\n",
        "sum = 0 \n",
        "for i in a:\n",
        "  sum+=int(i)\n",
        "print(sum)"
      ],
      "metadata": {
        "colab": {
          "base_uri": "https://localhost:8080/"
        },
        "id": "bNswPt7gZB15",
        "outputId": "6f396a1f-1718-4213-8056-23a5174e9b8b"
      },
      "execution_count": 6,
      "outputs": [
        {
          "output_type": "stream",
          "name": "stdout",
          "text": [
            "11\n",
            "10987654321\n",
            "46\n"
          ]
        }
      ]
    },
    {
      "cell_type": "markdown",
      "source": [
        "###문제\n",
        "세준이는 기말고사를 망쳤다. 세준이는 점수를 조작해서 집에 가져가기로 했다. 일단 세준이는 자기 점수 중에 최댓값을 골랐다. 이 값을 M이라고 한다. 그리고 나서 모든 점수를 점수/M*100으로 고쳤다.\n",
        "\n",
        "예를 들어, 세준이의 최고점이 70이고, 수학점수가 50이었으면 수학점수는 50/70*100이 되어 71.43점이 된다.\n",
        "\n",
        "세준이의 성적을 위의 방법대로 새로 계산했을 때, 새로운 평균을 구하는 프로그램을 작성하시오.\n",
        "\n",
        "###입력\n",
        "첫째 줄에 시험 본 과목의 개수 N이 주어진다. 이 값은 1000보다 작거나 같다. 둘째 줄에 세준이의 현재 성적이 주어진다. 이 값은 100보다 작거나 같은 음이 아닌 정수이고, 적어도 하나의 값은 0보다 크다.\n",
        "\n",
        "###출력\n",
        "첫째 줄에 새로운 평균을 출력한다. 실제 정답과 출력값의 절대오차 또는 상대오차가 10-2 이하이면 정답이다."
      ],
      "metadata": {
        "id": "qvGK8KL_wkFR"
      }
    },
    {
      "cell_type": "code",
      "source": [
        "#1546\n",
        "n = int(input())\n",
        "score = list(map(int, input().split()))\n",
        "max_score = max(score)\n",
        "\n",
        "new_score = []\n",
        "new_score_add = 0\n",
        "\n",
        "for i in score:\n",
        "  new = (i/max_score)*100\n",
        "  new_score.append(new)\n",
        "  new_score_add += new\n",
        "print(new_score_add/len(new_score))"
      ],
      "metadata": {
        "colab": {
          "base_uri": "https://localhost:8080/"
        },
        "id": "LHk_4u1Zd5an",
        "outputId": "b01f5689-54ff-4d6b-9d45-cb8d404024bb"
      },
      "execution_count": 11,
      "outputs": [
        {
          "output_type": "stream",
          "name": "stdout",
          "text": [
            "4\n",
            "1 100 100 100\n",
            "75.25\n"
          ]
        }
      ]
    }
  ]
}
