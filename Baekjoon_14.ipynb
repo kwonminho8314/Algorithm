{
  "nbformat": 4,
  "nbformat_minor": 0,
  "metadata": {
    "colab": {
      "provenance": []
    },
    "kernelspec": {
      "name": "python3",
      "display_name": "Python 3"
    },
    "language_info": {
      "name": "python"
    }
  },
  "cells": [
    {
      "cell_type": "markdown",
      "source": [
        "###문제\n",
        "N개의 수로 이루어진 수열 A[1], A[2], …, A[N]이 있다. 이 수열에 대해서 버블 소트를 수행할 때, Swap이 총 몇 번 발생하는지 알아내는 프로그램을 작성하시오.\n",
        "\n",
        "버블 소트는 서로 인접해 있는 두 수를 바꿔가며 정렬하는 방법이다. 예를 들어 수열이 3 2 1 이었다고 하자. 이 경우에는 인접해 있는 3, 2가 바뀌어야 하므로 2 3 1 이 된다. 다음으로는 3, 1이 바뀌어야 하므로 2 1 3 이 된다. 다음에는 2, 1이 바뀌어야 하므로 1 2 3 이 된다. 그러면 더 이상 바꿔야 할 경우가 없으므로 정렬이 완료된다.\n",
        "\n",
        "###입력\n",
        "첫째 줄에 N(1 ≤ N ≤ 500,000)이 주어진다. 다음 줄에는 N개의 정수로 A[1], A[2], …, A[N]이 주어진다. 각각의 A[i]는 0 ≤ |A[i]| ≤ 1,000,000,000의 범위에 들어있다.\n",
        "\n",
        "###출력\n",
        "첫째 줄에 Swap 횟수를 출력한다"
      ],
      "metadata": {
        "id": "F3qj2pL6ubmU"
      }
    },
    {
      "cell_type": "code",
      "execution_count": 1,
      "metadata": {
        "colab": {
          "base_uri": "https://localhost:8080/"
        },
        "id": "4eYGni6ZuWlO",
        "outputId": "7abed49a-ec68-42e3-cbb0-5ffb671d3cf2"
      },
      "outputs": [
        {
          "output_type": "stream",
          "name": "stdout",
          "text": [
            "8\n",
            "3 2 8 1 7 4 5 6\n",
            "11\n"
          ]
        }
      ],
      "source": [
        "result = 0\n",
        "\n",
        "def merge_sort(s, e):\n",
        "    global result\n",
        "    if e - s < 1: return\n",
        "    m = int(s + (e - s) / 2)\n",
        "    merge_sort(s, m)  # 재귀 함수의 형태로 구현\n",
        "    merge_sort(m + 1, e)\n",
        "    for i in range(s, e + 1):\n",
        "        tmp[i] = A[i]\n",
        "    k = s\n",
        "    index1 = s\n",
        "    index2 = m + 1\n",
        "    while index1 <= m and index2 <= e:  # 두 그룹을 병합하는 로직\n",
        "        if tmp[index1] > tmp[index2]:\n",
        "            A[k] = tmp[index2]\n",
        "            result = result + index2 - k  # 뒤쪽 데이터 값이 더 작은 경우 결괏값 업데이트\n",
        "            k += 1\n",
        "            index2 += 1\n",
        "        else:\n",
        "            A[k] = tmp[index1]\n",
        "            k += 1\n",
        "            index1 += 1\n",
        "    while index1 <= m:\n",
        "        A[k] = tmp[index1]\n",
        "        k += 1\n",
        "        index1 += 1\n",
        "    while index2 <= e:\n",
        "        A[k] = tmp[index2]\n",
        "        k += 1\n",
        "        index2 += 1\n",
        "\n",
        "N = int(input())\n",
        "A = list(map(int, input().split()))\n",
        "A.insert(0, 0)\n",
        "tmp = [0] * int(N + 1)\n",
        "merge_sort(1, N)\n",
        "print(result)"
      ]
    }
  ]
}