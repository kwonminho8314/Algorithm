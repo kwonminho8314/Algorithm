{
  "nbformat": 4,
  "nbformat_minor": 0,
  "metadata": {
    "colab": {
      "provenance": [],
      "collapsed_sections": []
    },
    "kernelspec": {
      "name": "python3",
      "display_name": "Python 3"
    },
    "language_info": {
      "name": "python"
    }
  },
  "cells": [
    {
      "cell_type": "markdown",
      "source": [
        "###문제\n",
        "N장의 카드가 있다. 각각의 카드는 차례로 1부터 N까지의 번호가 붙어 있으며, 1번 카드가 제일 위에, N번 카드가 제일 아래인 상태로 순서대로 카드가 놓여 있다.\n",
        "\n",
        "이제 다음과 같은 동작을 카드가 한 장 남을 때까지 반복하게 된다. 우선, 제일 위에 있는 카드를 바닥에 버린다. 그 다음, 제일 위에 있는 카드를 제일 아래에 있는 카드 밑으로 옮긴다.\n",
        "\n",
        "예를 들어 N=4인 경우를 생각해 보자. 카드는 제일 위에서부터 1234 의 순서로 놓여있다. 1을 버리면 234가 남는다. 여기서 2를 제일 아래로 옮기면 342가 된다. 3을 버리면 42가 되고, 4를 밑으로 옮기면 24가 된다. 마지막으로 2를 버리고 나면, 남는 카드는 4가 된다.\n",
        "\n",
        "N이 주어졌을 때, 제일 마지막에 남게 되는 카드를 구하는 프로그램을 작성하시오.\n",
        "\n",
        "###입력\n",
        "첫째 줄에 정수 N(1 ≤ N ≤ 500,000)이 주어진다.\n",
        "\n",
        "###출력\n",
        "첫째 줄에 남게 되는 카드의 번호를 출력한다."
      ],
      "metadata": {
        "id": "PJuz1auqcnqr"
      }
    },
    {
      "cell_type": "code",
      "execution_count": null,
      "metadata": {
        "colab": {
          "base_uri": "https://localhost:8080/"
        },
        "id": "7zS8G6kDckhs",
        "outputId": "5255d1b7-de3d-4cd9-b392-46b28ed7b8f8"
      },
      "outputs": [
        {
          "output_type": "stream",
          "name": "stdout",
          "text": [
            "6\n",
            "4\n"
          ]
        }
      ],
      "source": [
        "from collections import deque\n",
        "\n",
        "n = int(input())\n",
        "card = deque()\n",
        "\n",
        "for i in range(1,n+1):\n",
        "  card.append(i) # 카드 덱에 1부터 순서대로 추가한다.\n",
        "\n",
        "while len(card) > 1: #카드가 한장이 남을 때까지 무한루프\n",
        "  card.popleft() #맨 위의 카드 즉 젤 처음 들어간 카드를 버린다\n",
        "  card.append(card.popleft()) # 맨 위의 카드를 제일 아래에 추가한다\n",
        "\n",
        "print(card[0])#덱 안에 첫번째 수를 프린트한다"
      ]
    }
  ]
}
