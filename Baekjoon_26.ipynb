{
  "nbformat": 4,
  "nbformat_minor": 0,
  "metadata": {
    "colab": {
      "provenance": []
    },
    "kernelspec": {
      "name": "python3",
      "display_name": "Python 3"
    },
    "language_info": {
      "name": "python"
    }
  },
  "cells": [
    {
      "cell_type": "markdown",
      "source": [
        "##1920\n",
        "\n",
        "###문제\n",
        "M이상 N이하의 소수를 모두 출력하는 프로그램을 작성하시오.\n",
        "\n",
        "###입력\n",
        "첫째 줄에 자연수 M과 N이 빈 칸을 사이에 두고 주어진다. (1 ≤ M ≤ N ≤ 1,000,000) M이상 N이하의 소수가 하나 이상 있는 입력만 주어진다.\n",
        "\n",
        "###출력\n",
        "한 줄에 하나씩, 증가하는 순서대로 소수를 출력한다."
      ],
      "metadata": {
        "id": "3Ub2pTKxICVO"
      }
    },
    {
      "cell_type": "code",
      "source": [
        "#에라토스테네스의 체 사용(시간 복잡도 : O(Nlog(logN)))\n",
        "import math\n",
        "#자연수 m,n 입력\n",
        "m,n = map(int,input().split())\n",
        "\n",
        "#숫자 리스트 생성\n",
        "a = [0] * (n+1)\n",
        "\n",
        "for i in range(2,n+1):\n",
        "  a[i] = i\n",
        "\n",
        "#에라토스테네스의 체\n",
        "for i in range(2,int(math.sqrt(n))+1):\n",
        "  if a[i] == 0:\n",
        "    continue\n",
        "  #배수 지우기\n",
        "  for j in range(i+i,n+1,i):\n",
        "    a[j] = 0\n",
        "\n",
        "for i in range(m,n+1):\n",
        "  if a[i] != 0:\n",
        "    print(a[i])"
      ],
      "metadata": {
        "colab": {
          "base_uri": "https://localhost:8080/"
        },
        "id": "oO2uybaJ_GiF",
        "outputId": "1ee2e2c7-b527-4c90-a0a3-55ca03cb11a6"
      },
      "execution_count": 1,
      "outputs": [
        {
          "output_type": "stream",
          "name": "stdout",
          "text": [
            "3 16\n",
            "3\n",
            "5\n",
            "7\n",
            "11\n",
            "13\n"
          ]
        }
      ]
    }
  ]
}