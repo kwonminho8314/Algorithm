{
  "nbformat": 4,
  "nbformat_minor": 0,
  "metadata": {
    "colab": {
      "provenance": []
    },
    "kernelspec": {
      "name": "python3",
      "display_name": "Python 3"
    },
    "language_info": {
      "name": "python"
    }
  },
  "cells": [
    {
      "cell_type": "markdown",
      "source": [
        "##1260\n",
        "###문제\n",
        "그래프를 DFS로 탐색한 결과와 BFS로 탐색한 결과를 출력하는 프로그램을 작성하시오. 단, 방문할 수 있는 정점이 여러 개인 경우에는 정점 번호가 작은 것을 먼저 방문하고, 더 이상 방문할 수 있는 점이 없는 경우 종료한다. 정점 번호는 1번부터 N번까지이다.\n",
        "\n",
        "###입력\n",
        "첫째 줄에 정점의 개수 N(1 ≤ N ≤ 1,000), 간선의 개수 M(1 ≤ M ≤ 10,000), 탐색을 시작할 정점의 번호 V가 주어진다. 다음 M개의 줄에는 간선이 연결하는 두 정점의 번호가 주어진다. 어떤 두 정점 사이에 여러 개의 간선이 있을 수 있다. 입력으로 주어지는 간선은 양방향이다.\n",
        "\n",
        "###출력\n",
        "첫째 줄에 DFS를 수행한 결과를, 그 다음 줄에는 BFS를 수행한 결과를 출력한다. V부터 방문된 점을 순서대로 출력하면 된다."
      ],
      "metadata": {
        "id": "3Ub2pTKxICVO"
      }
    },
    {
      "cell_type": "code",
      "source": [
        "#너비 우선 탐색 사용(시간 복잡도 : O(노드수 + 엣지수))\n",
        "#노드의 수, 엣지 수, 시작점\n",
        "n,m,start = map(int,input().split())\n",
        "#인접 리스트\n",
        "a = [[] for _ in range(n+1)]\n",
        "#양방향 엣지 더하기\n",
        "for _ in range(m):\n",
        "  s,e = map(int,input().split())\n",
        "  a[s].append(e)\n",
        "  a[e].append(s)\n",
        "\n",
        "#작은 노드부터 방문하기 위해 정렬하기\n",
        "for i in range(n+1):\n",
        "  a[i].sort()\n",
        "\n",
        "#DFS\n",
        "def DFS(v):\n",
        "  print(v, end=' ')\n",
        "  visited[v] = True\n",
        "  for i in a[v]:\n",
        "    if not visited[i]:\n",
        "      DFS(i)\n",
        "#방문 리스트\n",
        "visited = [False] * (n+1)\n",
        "DFS(start)\n",
        "\n",
        "#BFS\n",
        "from collections import deque\n",
        "def BFS(v):\n",
        "  queue = deque()\n",
        "  queue.append(v)\n",
        "  visited[v] = True\n",
        "  while queue:\n",
        "    node = queue.popleft()\n",
        "    print(node, end=' ')\n",
        "    for i in a[node]:\n",
        "      if not visited[i]:\n",
        "        visited[i] = True\n",
        "        queue.append(i)\n",
        "\n",
        "print()\n",
        "visited = [False] * (n+1)\n",
        "BFS(start)"
      ],
      "metadata": {
        "colab": {
          "base_uri": "https://localhost:8080/"
        },
        "id": "-PZE7jE3m5o4",
        "outputId": "cc96e757-14c3-4621-b037-15350065ccf6"
      },
      "execution_count": 1,
      "outputs": [
        {
          "output_type": "stream",
          "name": "stdout",
          "text": [
            "4 5 1\n",
            "1 2\n",
            "1 3\n",
            "1 4\n",
            "2 4\n",
            "3 4\n",
            "1 2 4 3 \n",
            "1 2 3 4 "
          ]
        }
      ]
    }
  ]
}