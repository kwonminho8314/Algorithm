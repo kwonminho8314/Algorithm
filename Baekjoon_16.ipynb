{
  "nbformat": 4,
  "nbformat_minor": 0,
  "metadata": {
    "colab": {
      "provenance": []
    },
    "kernelspec": {
      "name": "python3",
      "display_name": "Python 3"
    },
    "language_info": {
      "name": "python"
    }
  },
  "cells": [
    {
      "cell_type": "markdown",
      "source": [
        "###문제\n",
        "수 N개가 주어졌을 때, i번째 수부터 j번째 수까지 합을 구하는 프로그램을 작성하시오.\n",
        "\n",
        "###입력\n",
        "첫째 줄에 수의 개수 N과 합을 구해야 하는 횟수 M이 주어진다. 둘째 줄에는 N개의 수가 주어진다. 수는 1,000보다 작거나 같은 자연수이다. 셋째 줄부터 M개의 줄에는 합을 구해야 하는 구간 i와 j가 주어진다.\n",
        "\n",
        "###출력\n",
        "총 M개의 줄에 입력으로 주어진 i번째 수부터 j번째 수까지 합을 출력한다."
      ],
      "metadata": {
        "id": "oz59tepVjNx-"
      }
    },
    {
      "cell_type": "code",
      "execution_count": null,
      "metadata": {
        "id": "mDft2QqpjGfI"
      },
      "outputs": [],
      "source": [
        "suNo,quizNo = map(int, input().split())\n",
        "numbers = list(map(int, input().split()))\n",
        "prifix_sum = [0]\n",
        "temp = 0\n",
        "for i in numbers:\n",
        "    temp = temp + i\n",
        "    prifix_sum.append(temp) #합 배열 만들기\n",
        "for i in range(quizNo):\n",
        "    s, e = map(int, input().split())\n",
        "    print(prifix_sum[e]-prifix_sum[s-1]) #합 배열에서 구간합 구하기"
      ]
    }
  ]
}