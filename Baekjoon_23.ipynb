{
  "nbformat": 4,
  "nbformat_minor": 0,
  "metadata": {
    "colab": {
      "provenance": []
    },
    "kernelspec": {
      "name": "python3",
      "display_name": "Python 3"
    },
    "language_info": {
      "name": "python"
    }
  },
  "cells": [
    {
      "cell_type": "markdown",
      "source": [
        "##2750\n",
        "###문제\n",
        "N개의 수가 주어졌을 때, 이를 오름차순으로 정렬하는 프로그램을 작성하시오.\n",
        "\n",
        "###입력\n",
        "첫째 줄에 수의 개수 N(1 ≤ N ≤ 1,000)이 주어진다. 둘째 줄부터 N개의 줄에는 수가 주어진다. 이 수는 절댓값이 1,000보다 작거나 같은 정수이다. 수는 중복되지 않는다.\n",
        "\n",
        "###출력\n",
        "첫째 줄부터 N개의 줄에 오름차순으로 정렬한 결과를 한 줄에 하나씩 출력한다."
      ],
      "metadata": {
        "id": "3Ub2pTKxICVO"
      }
    },
    {
      "cell_type": "code",
      "source": [
        "#선택 정렬 사용(selection sort, 시간 복잡도 : O(n^2))\n",
        "#import sys\n",
        "#input = sys.stdin.readline\n",
        "n = int(input())\n",
        "#n개의 수 입력\n",
        "num = []\n",
        "for i in range(n):\n",
        "  a = int(input())\n",
        "  num.append(a)\n",
        "\n",
        "for i in range(len(num) - 1):\n",
        "  min_idx = i\n",
        "  for j in range(i + 1, len(num)):\n",
        "    if num[j] < num[min_idx]:\n",
        "      min_idx = j\n",
        "  num[i], num[min_idx] = num[min_idx], num[i]\n",
        "\n",
        "for i in range(n):\n",
        "  print(num[i])"
      ],
      "metadata": {
        "colab": {
          "base_uri": "https://localhost:8080/"
        },
        "id": "oO2uybaJ_GiF",
        "outputId": "3a8308a3-ec31-41d1-9e23-5a6a0ef8ee57"
      },
      "execution_count": 1,
      "outputs": [
        {
          "output_type": "stream",
          "name": "stdout",
          "text": [
            "5\n",
            "5\n",
            "2\n",
            "3\n",
            "4\n",
            "1\n",
            "1\n",
            "2\n",
            "3\n",
            "4\n",
            "5\n"
          ]
        }
      ]
    }
  ]
}