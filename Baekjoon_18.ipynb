{
  "nbformat": 4,
  "nbformat_minor": 0,
  "metadata": {
    "colab": {
      "provenance": []
    },
    "kernelspec": {
      "name": "python3",
      "display_name": "Python 3"
    },
    "language_info": {
      "name": "python"
    }
  },
  "cells": [
    {
      "cell_type": "markdown",
      "source": [
        "##11003\n",
        "###문제\n",
        "N개의 수 A1, A2, ..., AN과 L이 주어진다.\n",
        "\n",
        "Di = Ai-L+1 ~ Ai 중의 최솟값이라고 할 때, D에 저장된 수를 출력하는 프로그램을 작성하시오. 이때, i ≤ 0 인 Ai는 무시하고 D를 구해야 한다.\n",
        "\n",
        "###입력\n",
        "첫째 줄에 N과 L이 주어진다. (1 ≤ L ≤ N ≤ 5,000,000)\n",
        "\n",
        "둘째 줄에는 N개의 수 Ai가 주어진다. (-109 ≤ Ai ≤ 109)\n",
        "\n",
        "###출력\n",
        "첫째 줄에 Di를 공백으로 구분하여 순서대로 출력한다."
      ],
      "metadata": {
        "id": "3Ub2pTKxICVO"
      }
    },
    {
      "cell_type": "code",
      "execution_count": 1,
      "metadata": {
        "colab": {
          "base_uri": "https://localhost:8080/"
        },
        "id": "wwgCC4bTG1XI",
        "outputId": "cc5d7540-b97b-46ba-c7d4-9cf6a8a11deb"
      },
      "outputs": [
        {
          "output_type": "stream",
          "name": "stdout",
          "text": [
            "12 3\n",
            "1 5 2 3 6 2 3 7 3 5 2 6\n",
            "1 1 1 2 2 2 2 2 3 3 2 2 "
          ]
        }
      ],
      "source": [
        "#deque 사용\n",
        "#import sys\n",
        "#input = sys.stdin.readline\n",
        "from collections import deque\n",
        "#n개의 수와 l\n",
        "n, l = map(int,input().split())\n",
        "#n개의 수 a\n",
        "a = list(map(int, input().split()))\n",
        "#deque\n",
        "mydeque = deque()\n",
        "\n",
        "for i in range(n):\n",
        "  while mydeque and mydeque[-1][0] > a[i]:\n",
        "    mydeque.pop()\n",
        "  mydeque.append((a[i],i))\n",
        "  if mydeque[0][1] <= i - l:\n",
        "    mydeque.popleft()\n",
        "  print(mydeque[0][0], end = ' ')"
      ]
    }
  ]
}