{
  "nbformat": 4,
  "nbformat_minor": 0,
  "metadata": {
    "colab": {
      "provenance": [],
      "collapsed_sections": []
    },
    "kernelspec": {
      "name": "python3",
      "display_name": "Python 3"
    },
    "language_info": {
      "name": "python"
    }
  },
  "cells": [
    {
      "cell_type": "markdown",
      "source": [
        "###문제\n",
        "배열을 정렬하는 것은 쉽다. 수가 주어지면, 그 수의 각 자리수를 내림차순으로 정렬해보자.\n",
        "\n",
        "###입력\n",
        "첫째 줄에 정렬하려고 하는 수 N이 주어진다. N은 1,000,000,000보다 작거나 같은 자연수이다.\n",
        "\n",
        "###출력\n",
        "첫째 줄에 자리수를 내림차순으로 정렬한 수를 출력한다."
      ],
      "metadata": {
        "id": "s9_Wx-fOlp3S"
      }
    },
    {
      "cell_type": "code",
      "execution_count": null,
      "metadata": {
        "colab": {
          "base_uri": "https://localhost:8080/"
        },
        "id": "VrfrKkSlj_Ni",
        "outputId": "9fd34359-3ad6-4817-cffb-b03098902b7b"
      },
      "outputs": [
        {
          "output_type": "stream",
          "name": "stdout",
          "text": [
            "2143\n",
            "4321\n"
          ]
        }
      ],
      "source": [
        "n = input()\n",
        "num_list = []\n",
        "\n",
        "for i in n:\n",
        "  num_list.append(int(i))\n",
        "\n",
        "num_list.sort(reverse=True)\n",
        "a = ''\n",
        "for i in num_list:\n",
        "  a += str(i)\n",
        "\n",
        "print(a)"
      ]
    },
    {
      "cell_type": "code",
      "source": [
        "#선택정렬 사용\n",
        "a = list(input())\n",
        "\n",
        "for i in range(len(a)):\n",
        "  max = i\n",
        "  for j in range(i+1,len(a)):\n",
        "    if a[j] > a[max]:\n",
        "      max = j\n",
        "  if a[i] < a[max]:\n",
        "    temp = a[i]\n",
        "    a[i] = a[max]\n",
        "    a[max] = temp\n",
        "\n",
        "for i in range(len(a)):\n",
        "  print(a[i])"
      ],
      "metadata": {
        "colab": {
          "base_uri": "https://localhost:8080/"
        },
        "id": "4i4OHsPESrAa",
        "outputId": "81d8ddd8-3f6d-4b60-87df-a9b1f95709d2"
      },
      "execution_count": 1,
      "outputs": [
        {
          "output_type": "stream",
          "name": "stdout",
          "text": [
            "2143\n",
            "4\n",
            "3\n",
            "2\n",
            "1\n"
          ]
        }
      ]
    }
  ]
}