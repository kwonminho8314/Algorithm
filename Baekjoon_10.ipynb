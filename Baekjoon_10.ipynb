{
  "nbformat": 4,
  "nbformat_minor": 0,
  "metadata": {
    "colab": {
      "provenance": []
    },
    "kernelspec": {
      "name": "python3",
      "display_name": "Python 3"
    },
    "language_info": {
      "name": "python"
    }
  },
  "cells": [
    {
      "cell_type": "markdown",
      "source": [
        "###문제\n",
        "배열을 정렬하는 것은 쉽다. 수가 주어지면, 그 수의 각 자리수를 내림차순으로 정렬해보자.\n",
        "\n",
        "###입력\n",
        "첫째 줄에 정렬하려고 하는 수 N이 주어진다. N은 1,000,000,000보다 작거나 같은 자연수이다.\n",
        "\n",
        "###출력\n",
        "첫째 줄에 자리수를 내림차순으로 정렬한 수를 출력한다."
      ],
      "metadata": {
        "id": "s9_Wx-fOlp3S"
      }
    },
    {
      "cell_type": "code",
      "execution_count": 5,
      "metadata": {
        "colab": {
          "base_uri": "https://localhost:8080/"
        },
        "id": "VrfrKkSlj_Ni",
        "outputId": "9fd34359-3ad6-4817-cffb-b03098902b7b"
      },
      "outputs": [
        {
          "output_type": "stream",
          "name": "stdout",
          "text": [
            "2143\n",
            "4321\n"
          ]
        }
      ],
      "source": [
        "n = input()\n",
        "num_list = []\n",
        "\n",
        "for i in n:\n",
        "  num_list.append(int(i))\n",
        "\n",
        "num_list.sort(reverse=True)\n",
        "a = ''\n",
        "for i in num_list:\n",
        "  a += str(i)\n",
        "\n",
        "print(a)"
      ]
    }
  ]
}