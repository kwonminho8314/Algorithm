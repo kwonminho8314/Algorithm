{
  "nbformat": 4,
  "nbformat_minor": 0,
  "metadata": {
    "colab": {
      "provenance": []
    },
    "kernelspec": {
      "name": "python3",
      "display_name": "Python 3"
    },
    "language_info": {
      "name": "python"
    }
  },
  "cells": [
    {
      "cell_type": "markdown",
      "source": [
        "###문제\n",
        "N개의 수가 주어졌을 때, 이를 오름차순으로 정렬하는 프로그램을 작성하시오.\n",
        "\n",
        "###입력\n",
        "첫째 줄에 수의 개수 N(1 ≤ N ≤ 1,000,000)이 주어진다. 둘째 줄부터 N개의 줄에는 수가 주어진다. 이 수는 절댓값이 1,000,000보다 작거나 같은 정수이다. 수는 중복되지 않는다.\n",
        "\n",
        "###출력\n",
        "첫째 줄부터 N개의 줄에 오름차순으로 정렬한 결과를 한 줄에 하나씩 출력한다."
      ],
      "metadata": {
        "id": "YisttptfjKcY"
      }
    },
    {
      "cell_type": "code",
      "execution_count": null,
      "metadata": {
        "id": "P_feSW7sjGCd"
      },
      "outputs": [],
      "source": [
        "import sys\n",
        "n = int(sys.stdin.readline())\n",
        "\n",
        "n_list = []\n",
        "\n",
        "for i in range(n):\n",
        "  a = int(sys.stdin.readline())\n",
        "  n_list.append(a)\n",
        "\n",
        "n_list.sort()\n",
        "\n",
        "for i in n_list:\n",
        "  print(i)"
      ]
    }
  ]
}