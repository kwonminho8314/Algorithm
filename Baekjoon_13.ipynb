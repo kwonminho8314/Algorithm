{
  "nbformat": 4,
  "nbformat_minor": 0,
  "metadata": {
    "colab": {
      "provenance": []
    },
    "kernelspec": {
      "name": "python3",
      "display_name": "Python 3"
    },
    "language_info": {
      "name": "python"
    }
  },
  "cells": [
    {
      "cell_type": "markdown",
      "source": [
        "###문제\n",
        "N개의 수가 주어졌을 때, 이를 오름차순으로 정렬하는 프로그램을 작성하시오.\n",
        "\n",
        "###입력\n",
        "첫째 줄에 수의 개수 N(1 ≤ N ≤ 1,000,000)이 주어진다. 둘째 줄부터 N개의 줄에는 수가 주어진다. 이 수는 절댓값이 1,000,000보다 작거나 같은 정수이다. 수는 중복되지 않는다.\n",
        "\n",
        "###출력\n",
        "첫째 줄부터 N개의 줄에 오름차순으로 정렬한 결과를 한 줄에 하나씩 출력한다."
      ],
      "metadata": {
        "id": "YisttptfjKcY"
      }
    },
    {
      "cell_type": "code",
      "execution_count": 2,
      "metadata": {
        "id": "P_feSW7sjGCd",
        "colab": {
          "base_uri": "https://localhost:8080/"
        },
        "outputId": "95576a96-807a-4b8b-b1f8-90e46627175b"
      },
      "outputs": [
        {
          "output_type": "stream",
          "name": "stdout",
          "text": [
            "5\n",
            "5\n",
            "4\n",
            "3\n",
            "2\n",
            "1\n",
            "1\n",
            "2\n",
            "3\n",
            "4\n",
            "5\n"
          ]
        }
      ],
      "source": [
        "n = int(input())\n",
        "\n",
        "n_list = []\n",
        "\n",
        "for i in range(n):\n",
        "  a = int(input())\n",
        "  n_list.append(a)\n",
        "\n",
        "n_list.sort()\n",
        "\n",
        "for i in n_list:\n",
        "  print(i)"
      ]
    },
    {
      "cell_type": "code",
      "source": [
        "# 병합정렬(merge sort) 사용\n",
        "\n",
        "def merge_sort(s,e):\n",
        "  if e-s < 1: return\n",
        "  m = int(s + (e - s)/2)\n",
        "  merge_sort(s,m)\n",
        "  merge_sort(m + 1,e)\n",
        "  for i in range(s, e + 1):\n",
        "    tmp[i] = A[i]\n",
        "  k = s\n",
        "  index1 = s\n",
        "  index2 = m + 1\n",
        "  while index1 <= m and index2 <= e: # 두 그룹 병합\n",
        "    if tmp[index1] > tmp[index2]:\n",
        "      A[k] = tmp[index2]\n",
        "      k += 1\n",
        "      index2 += 1\n",
        "    else:\n",
        "      A[k] = tmp[index1]\n",
        "      k += 1\n",
        "      index1 += 1\n",
        "  while index1 <= m:\n",
        "    A[k] = tmp[index1]\n",
        "    k += 1\n",
        "    index1 += 1\n",
        "  while index2 <= e:\n",
        "    A[k] = tmp[index2]\n",
        "    k += 1\n",
        "    index2 += 1\n",
        "\n",
        "N = int(input())\n",
        "A = [0]*int(N+1)\n",
        "tmp = [0]*int(N+1)\n",
        "\n",
        "for i in range(1,N+1):\n",
        "  A[i] = int(input())\n",
        "\n",
        "merge_sort(1,N)\n",
        "\n",
        "for i in range(1,N+1):\n",
        "  print(str(A[i]))"
      ],
      "metadata": {
        "id": "6IDDyG5hnCKq",
        "colab": {
          "base_uri": "https://localhost:8080/"
        },
        "outputId": "e032bed3-38b9-4393-d125-8933beca7823"
      },
      "execution_count": 5,
      "outputs": [
        {
          "output_type": "stream",
          "name": "stdout",
          "text": [
            "5\n",
            "5\n",
            "4\n",
            "3\n",
            "2\n",
            "1\n",
            "1\n",
            "2\n",
            "3\n",
            "4\n",
            "5\n"
          ]
        }
      ]
    },
    {
      "cell_type": "code",
      "source": [],
      "metadata": {
        "id": "q6IRgLvZPuuz"
      },
      "execution_count": null,
      "outputs": []
    }
  ]
}