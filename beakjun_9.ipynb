{
  "nbformat": 4,
  "nbformat_minor": 0,
  "metadata": {
    "colab": {
      "provenance": [],
      "collapsed_sections": []
    },
    "kernelspec": {
      "name": "python3",
      "display_name": "Python 3"
    },
    "language_info": {
      "name": "python"
    }
  },
  "cells": [
    {
      "cell_type": "markdown",
      "source": [
        "###문제\n",
        "N개의 수가 주어졌을 때, 이를 오름차순으로 정렬하는 프로그램을 작성하시오.\n",
        "\n",
        "###입력\n",
        "첫째 줄에 수의 개수 N(1 ≤ N ≤ 1,000)이 주어진다. 둘째 줄부터 N개의 줄에는 수 주어진다. 이 수는 절댓값이 1,000보다 작거나 같은 정수이다. 수는 중복되지 않는다.\n",
        "\n",
        "###출력\n",
        "첫째 줄부터 N개의 줄에 오름차순으로 정렬한 결과를 한 줄에 하나씩 출력한다."
      ],
      "metadata": {
        "id": "qGpVS3KRouOt"
      }
    },
    {
      "cell_type": "code",
      "source": [
        "#버블 정렬을 사용하지 않음\n",
        "n = int(input())\n",
        "num_list=[]\n",
        "for i in range(n):\n",
        "  a = int(input())\n",
        "  num_list.append(a)\n",
        "\n",
        "num_list.sort()\n",
        "\n",
        "for i in num_list:\n",
        "  print(i)"
      ],
      "metadata": {
        "colab": {
          "base_uri": "https://localhost:8080/"
        },
        "id": "sE6CACTPoylX",
        "outputId": "ae31e21a-ac8c-4040-cfdb-8196e10307d5"
      },
      "execution_count": null,
      "outputs": [
        {
          "output_type": "stream",
          "name": "stdout",
          "text": [
            "5\n",
            "5\n",
            "4\n",
            "2\n",
            "1\n",
            "3\n",
            "1\n",
            "2\n",
            "3\n",
            "4\n",
            "5\n"
          ]
        }
      ]
    },
    {
      "cell_type": "code",
      "source": [
        "#버블 정렬 사용\n",
        "n = int(input())\n",
        "a = [0]*n\n",
        "\n",
        "for i in range(n):\n",
        "  a[i] = int(input())\n",
        "\n",
        "for i in range(n-1):\n",
        "  print('i :',i)\n",
        "  for j in range(n-1-i):\n",
        "    if a[j] > a[j+1]:\n",
        "      temp = a[j]\n",
        "      a[j] = a[j+1]\n",
        "      a[j+1] = temp\n",
        "      print('a :',a,'j :',j)\n",
        "\n",
        "for i in range(n):\n",
        "  print(a[i])"
      ],
      "metadata": {
        "colab": {
          "base_uri": "https://localhost:8080/"
        },
        "id": "duJNtV3jrstA",
        "outputId": "0f5318f8-1f07-49c1-adfe-365f9632bc23"
      },
      "execution_count": null,
      "outputs": [
        {
          "output_type": "stream",
          "name": "stdout",
          "text": [
            "5\n",
            "4\n",
            "5\n",
            "3\n",
            "1\n",
            "2\n",
            "i : 0\n",
            "a : [4, 3, 5, 1, 2] j : 1\n",
            "a : [4, 3, 1, 5, 2] j : 2\n",
            "a : [4, 3, 1, 2, 5] j : 3\n",
            "i : 1\n",
            "a : [3, 4, 1, 2, 5] j : 0\n",
            "a : [3, 1, 4, 2, 5] j : 1\n",
            "a : [3, 1, 2, 4, 5] j : 2\n",
            "i : 2\n",
            "a : [1, 3, 2, 4, 5] j : 0\n",
            "a : [1, 2, 3, 4, 5] j : 1\n",
            "i : 3\n",
            "1\n",
            "2\n",
            "3\n",
            "4\n",
            "5\n"
          ]
        }
      ]
    },
    {
      "cell_type": "code",
      "source": [
        "#버블 정렬 사용\n",
        "n = int(input())\n",
        "a = [0]*n\n",
        "\n",
        "for i in range(n):\n",
        "  a[i] = int(input())\n",
        "\n",
        "for i in range(n):\n",
        "  print('i :',i)\n",
        "  for j in range(n-1):\n",
        "    if a[j] > a[j+1]:\n",
        "      temp = a[j]\n",
        "      a[j] = a[j+1]\n",
        "      a[j+1] = temp\n",
        "      print('a :',a,'j :',j)\n",
        "\n",
        "for i in range(n):\n",
        "  print(a[i])"
      ],
      "metadata": {
        "colab": {
          "base_uri": "https://localhost:8080/"
        },
        "id": "QD9MBk2frNBh",
        "outputId": "3091035c-cd3e-4718-884b-e48716711967"
      },
      "execution_count": null,
      "outputs": [
        {
          "output_type": "stream",
          "name": "stdout",
          "text": [
            "5\n",
            "4\n",
            "5\n",
            "3\n",
            "1\n",
            "2\n",
            "i : 0\n",
            "a : [4, 3, 5, 1, 2] j : 1\n",
            "a : [4, 3, 1, 5, 2] j : 2\n",
            "a : [4, 3, 1, 2, 5] j : 3\n",
            "i : 1\n",
            "a : [3, 4, 1, 2, 5] j : 0\n",
            "a : [3, 1, 4, 2, 5] j : 1\n",
            "a : [3, 1, 2, 4, 5] j : 2\n",
            "i : 2\n",
            "a : [1, 3, 2, 4, 5] j : 0\n",
            "a : [1, 2, 3, 4, 5] j : 1\n",
            "i : 3\n",
            "i : 4\n",
            "1\n",
            "2\n",
            "3\n",
            "4\n",
            "5\n"
          ]
        }
      ]
    }
  ]
}