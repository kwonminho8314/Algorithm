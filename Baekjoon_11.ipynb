{
  "nbformat": 4,
  "nbformat_minor": 0,
  "metadata": {
    "colab": {
      "provenance": [],
      "collapsed_sections": []
    },
    "kernelspec": {
      "name": "python3",
      "display_name": "Python 3"
    },
    "language_info": {
      "name": "python"
    }
  },
  "cells": [
    {
      "cell_type": "markdown",
      "source": [
        "##문제\n",
        "인하은행에는 ATM이 1대밖에 없다. 지금 이 ATM앞에 N명의 사람들이 줄을 서있다. 사람은 1번부터 N번까지 번호가 매겨져 있으며, i번 사람이 돈을 인출하는데 걸리는 시간은 Pi분이다.\n",
        "\n",
        "사람들이 줄을 서는 순서에 따라서, 돈을 인출하는데 필요한 시간의 합이 달라지게 된다. 예를 들어, 총 5명이 있고, P1 = 3, P2 = 1, P3 = 4, P4 = 3, P5 = 2 인 경우를 생각해보자. [1, 2, 3, 4, 5] 순서로 줄을 선다면, 1번 사람은 3분만에 돈을 뽑을 수 있다. 2번 사람은 1번 사람이 돈을 뽑을 때 까지 기다려야 하기 때문에, 3+1 = 4분이 걸리게 된다. 3번 사람은 1번, 2번 사람이 돈을 뽑을 때까지 기다려야 하기 때문에, 총 3+1+4 = 8분이 필요하게 된다. 4번 사람은 3+1+4+3 = 11분, 5번 사람은 3+1+4+3+2 = 13분이 걸리게 된다. 이 경우에 각 사람이 돈을 인출하는데 필요한 시간의 합은 3+4+8+11+13 = 39분이 된다.\n",
        "\n",
        "줄을 [2, 5, 1, 4, 3] 순서로 줄을 서면, 2번 사람은 1분만에, 5번 사람은 1+2 = 3분, 1번 사람은 1+2+3 = 6분, 4번 사람은 1+2+3+3 = 9분, 3번 사람은 1+2+3+3+4 = 13분이 걸리게 된다. 각 사람이 돈을 인출하는데 필요한 시간의 합은 1+3+6+9+13 = 32분이다. 이 방법보다 더 필요한 시간의 합을 최소로 만들 수는 없다.\n",
        "\n",
        "줄을 서 있는 사람의 수 N과 각 사람이 돈을 인출하는데 걸리는 시간 Pi가 주어졌을 때, 각 사람이 돈을 인출하는데 필요한 시간의 합의 최솟값을 구하는 프로그램을 작성하시오.\n",
        "\n",
        "##입력\n",
        "첫째 줄에 사람의 수 N(1 ≤ N ≤ 1,000)이 주어진다. 둘째 줄에는 각 사람이 돈을 인출하는데 걸리는 시간 Pi가 주어진다. (1 ≤ Pi ≤ 1,000)\n",
        "\n",
        "##출력\n",
        "첫째 줄에 각 사람이 돈을 인출하는데 필요한 시간의 합의 최솟값을 출력한다."
      ],
      "metadata": {
        "id": "ni75izKYHuJ3"
      }
    },
    {
      "cell_type": "code",
      "execution_count": null,
      "metadata": {
        "id": "PJwHgzBNxFpA",
        "colab": {
          "base_uri": "https://localhost:8080/"
        },
        "outputId": "7bf97d96-3c0b-479d-a427-02d40425c360"
      },
      "outputs": [
        {
          "output_type": "stream",
          "name": "stdout",
          "text": [
            "5\n",
            "3 1 4 3 2\n",
            "32\n"
          ]
        }
      ],
      "source": [
        "n = int(input())\n",
        "time = list(map(int, input().split()))\n",
        "sum_time = 0\n",
        "total_time = []\n",
        "sum_total=0\n",
        "\n",
        "time.sort()\n",
        "\n",
        "for i in time:\n",
        "  sum_time = sum_time + i\n",
        "  total_time.append(sum_time)\n",
        " \n",
        "for i in total_time:\n",
        "  sum_total+=i\n",
        "\n",
        "print(sum_total)"
      ]
    },
    {
      "cell_type": "code",
      "source": [
        "#삽입 정렬(이미 정렬된 데이터 범위에 정렬되지 않은 데이터를 적절한 위치에 삽입시켜 정렬) 사용\n",
        "n = int(input())\n",
        "a = list(map(int, input().split()))\n",
        "s = [0]*n\n",
        "\n",
        "for i in range(1,n): # 삽입정렬\n",
        "  insert_point = i\n",
        "  insert_value = a[i]\n",
        "\n",
        "  for j in range(i-1, -1, -1):\n",
        "    if a[j] < a[i]:\n",
        "      insert_point = j + 1\n",
        "      break\n",
        "    if j == 0:\n",
        "      insert_point = 0\n",
        "\n",
        "  for j in range(i, insert_point, -1):\n",
        "    a[j] = a[j-1]\n",
        "  a[insert_point] = insert_value\n",
        "\n",
        "s[0] = a[0]\n",
        "\n",
        "for i in range(1,n):\n",
        "  s[i] = s[i-1] + a[i]\n",
        "\n",
        "sum = 0\n",
        "\n",
        "for i in range(0,n):\n",
        "  sum+=s[i]\n",
        "\n",
        "print(sum)"
      ],
      "metadata": {
        "id": "cycQjMYbKtqV",
        "colab": {
          "base_uri": "https://localhost:8080/"
        },
        "outputId": "f307ac43-cffb-4bc1-e628-e8857463737c"
      },
      "execution_count": 1,
      "outputs": [
        {
          "output_type": "stream",
          "name": "stdout",
          "text": [
            "5\n",
            "3 1 4 3 2\n",
            "32\n"
          ]
        }
      ]
    }
  ]
}