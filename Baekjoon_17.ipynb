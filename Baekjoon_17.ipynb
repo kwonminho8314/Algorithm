{
  "nbformat": 4,
  "nbformat_minor": 0,
  "metadata": {
    "colab": {
      "provenance": []
    },
    "kernelspec": {
      "name": "python3",
      "display_name": "Python 3"
    },
    "language_info": {
      "name": "python"
    }
  },
  "cells": [
    {
      "cell_type": "markdown",
      "source": [
        "###문제\n",
        "N개의 수 중에서 어떤 수가 다른 수 두 개의 합으로 나타낼 수 있다면 그 수를 “좋다(GOOD)”고 한다.\n",
        "\n",
        "N개의 수가 주어지면 그 중에서 좋은 수의 개수는 몇 개인지 출력하라.\n",
        "\n",
        "수의 위치가 다르면 값이 같아도 다른 수이다.\n",
        "\n",
        "###입력\n",
        "첫째 줄에는 수의 개수 N(1 ≤ N ≤ 2,000), 두 번째 줄에는 i번째 수를 나타내는 Ai가 N개 주어진다. (|Ai| ≤ 1,000,000,000, Ai는 정수)\n",
        "\n",
        "###출력\n",
        "좋은 수의 개수를 첫 번째 줄에 출력한다."
      ],
      "metadata": {
        "id": "oz59tepVjNx-"
      }
    },
    {
      "cell_type": "code",
      "execution_count": null,
      "metadata": {
        "id": "mDft2QqpjGfI"
      },
      "outputs": [],
      "source": [
        "import sys\n",
        "input = sys.stdin.readline\n",
        "N = int(input())\n",
        "Result = 0\n",
        "A = list(map(int, input().split()))\n",
        "A.sort()\n",
        "for k in range(N):\n",
        "    find = A[k]\n",
        "    i = int(0)\n",
        "    j = int(N - 1)\n",
        "    while i < j:  # 투 포인터 알고리즘\n",
        "        if A[i] + A[j] == find:  # find는 서로 다른 두 수의 합 이어야 함을 체크\n",
        "            if i != k and j != k:\n",
        "                Result += 1\n",
        "                break\n",
        "            elif i == k:\n",
        "                i += 1\n",
        "            elif j == k:\n",
        "                j -= 1\n",
        "        elif A[i] + A[j] < find:\n",
        "            i += 1\n",
        "        else:\n",
        "            j -= 1\n",
        "print(Result)"
      ]
    }
  ]
}