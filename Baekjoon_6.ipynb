{
  "nbformat": 4,
  "nbformat_minor": 0,
  "metadata": {
    "colab": {
      "provenance": [],
      "collapsed_sections": []
    },
    "kernelspec": {
      "name": "python3",
      "display_name": "Python 3"
    },
    "language_info": {
      "name": "python"
    }
  },
  "cells": [
    {
      "cell_type": "markdown",
      "source": [
        "###문제\n",
        "N개의 수 A1, A2, ..., AN과 L이 주어진다.\n",
        "\n",
        "Di = Ai-L+1 ~ Ai 중의 최솟값이라고 할 때, D에 저장된 수를 출력하는 프로그램을 작성하시오. 이때, i ≤ 0 인 Ai는 무시하고 D를 구해야 한다.\n",
        "\n",
        "###입력\n",
        "첫째 줄에 N과 L이 주어진다. (1 ≤ L ≤ N ≤ 5,000,000)\n",
        "\n",
        "둘째 줄에는 N개의 수 Ai가 주어진다. (-109 ≤ Ai ≤ 109)\n",
        "\n",
        "###출력\n",
        "첫째 줄에 Di를 공백으로 구분하여 순서대로 출력한다."
      ],
      "metadata": {
        "id": "xXZ4F00pAhZO"
      }
    },
    {
      "cell_type": "code",
      "source": [
        "from collections import deque\n",
        "N,L = map(int, input().split())\n",
        "mydeque = deque()\n",
        "now = list(map(int, input().split()))\n",
        "\n",
        "for i in range(N):\n",
        "  while mydeque and mydeque[-1][0] > now[i]:\n",
        "    mydeque.pop()\n",
        "  mydeque.append((now[i],i))\n",
        "  if mydeque[0][1] <= i -L:\n",
        "    mydeque.popleft()\n",
        "  print(mydeque[0][0], end=' ')"
      ],
      "metadata": {
        "id": "gJ7g8L95l5SC",
        "colab": {
          "base_uri": "https://localhost:8080/"
        },
        "outputId": "daf4880f-fb09-428c-e7d7-0dfd5be4c4df"
      },
      "execution_count": 4,
      "outputs": [
        {
          "output_type": "stream",
          "name": "stdout",
          "text": [
            "12 3\n",
            "1 5 2 3 6 2 3 7 3 5 2 6\n",
            "1 1 1 2 2 2 2 2 3 3 2 2 "
          ]
        }
      ]
    },
    {
      "cell_type": "code",
      "source": [],
      "metadata": {
        "id": "ck7cwf42Aq61"
      },
      "execution_count": null,
      "outputs": []
    }
  ]
}
