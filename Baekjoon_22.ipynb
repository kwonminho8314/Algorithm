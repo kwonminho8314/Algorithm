{
  "nbformat": 4,
  "nbformat_minor": 0,
  "metadata": {
    "colab": {
      "provenance": []
    },
    "kernelspec": {
      "name": "python3",
      "display_name": "Python 3"
    },
    "language_info": {
      "name": "python"
    }
  },
  "cells": [
    {
      "cell_type": "markdown",
      "source": [
        "##1920\n",
        "###문제\n",
        "N개의 정수 A[1], A[2], …, A[N]이 주어져 있을 때, 이 안에 X라는 정수가 존재하는지 알아내는 프로그램을 작성하시오.\n",
        "\n",
        "###입력\n",
        "첫째 줄에 자연수 N(1 ≤ N ≤ 100,000)이 주어진다. 다음 줄에는 N개의 정수 A[1], A[2], …, A[N]이 주어진다. 다음 줄에는 M(1 ≤ M ≤ 100,000)이 주어진다. 다음 줄에는 M개의 수들이 주어지는데, 이 수들이 A안에 존재하는지 알아내면 된다. 모든 정수의 범위는 -231 보다 크거나 같고 231보다 작다.\n",
        "\n",
        "###출력\n",
        "M개의 줄에 답을 출력한다. 존재하면 1을, 존재하지 않으면 0을 출력한다."
      ],
      "metadata": {
        "id": "3Ub2pTKxICVO"
      }
    },
    {
      "cell_type": "code",
      "source": [
        "#이진탐색 사용(시간 복잡도 : O(logN))\n",
        "#데이터 개수\n",
        "n = int(input())\n",
        "#데이터\n",
        "data = list(map(int,input().split()))\n",
        "#데이터 정렬\n",
        "data.sort()\n",
        "#탐색할 숫자 갯수\n",
        "m = int(input())\n",
        "#탐색할 수 데이터\n",
        "target_l = list(map(int,input().split()))\n",
        "\n",
        "for i in range(m):\n",
        "  find = False\n",
        "  target = target_l[i]\n",
        "  #이진탐색 시작\n",
        "  start = 0\n",
        "  end = len(data)-1\n",
        "  while start<=end:\n",
        "    midle = int((start+end)/2)\n",
        "    mid = data[midle]\n",
        "    if mid > target:\n",
        "      end = midle -1\n",
        "    elif mid < target:\n",
        "      start = midle + 1\n",
        "    else:\n",
        "      find = True\n",
        "      break\n",
        "  if find:\n",
        "    print(1)\n",
        "  else:\n",
        "    print(0)"
      ],
      "metadata": {
        "colab": {
          "base_uri": "https://localhost:8080/"
        },
        "id": "QisMPyLr3lNX",
        "outputId": "5b2c4e62-2823-4474-89ea-fe3c8f09cec3"
      },
      "execution_count": 1,
      "outputs": [
        {
          "output_type": "stream",
          "name": "stdout",
          "text": [
            "5\n",
            "4 1 5 2 3\n",
            "5\n",
            "1 3 7 9 5\n",
            "1\n",
            "1\n",
            "0\n",
            "0\n",
            "1\n"
          ]
        }
      ]
    }
  ]
}