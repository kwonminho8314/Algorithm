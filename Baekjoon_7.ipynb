{
  "nbformat": 4,
  "nbformat_minor": 0,
  "metadata": {
    "colab": {
      "provenance": [],
      "collapsed_sections": []
    },
    "kernelspec": {
      "name": "python3",
      "display_name": "Python 3"
    },
    "language_info": {
      "name": "python"
    }
  },
  "cells": [
    {
      "cell_type": "markdown",
      "source": [
        "###문제\n",
        "스택 (stack)은 기본적인 자료구조 중 하나로, 컴퓨터 프로그램을 작성할 때 자주 이용되는 개념이다. 스택은 자료를 넣는 (push) 입구와 자료를 뽑는 (pop) 입구가 같아 제일 나중에 들어간 자료가 제일 먼저 나오는 (LIFO, Last in First out) 특성을 가지고 있다.\n",
        "\n",
        "1부터 n까지의 수를 스택에 넣었다가 뽑아 늘어놓음으로써, 하나의 수열을 만들 수 있다. 이때, 스택에 push하는 순서는 반드시 오름차순을 지키도록 한다고 하자. 임의의 수열이 주어졌을 때 스택을 이용해 그 수열을 만들 수 있는지 없는지, 있다면 어떤 순서로 push와 pop 연산을 수행해야 하는지를 알아낼 수 있다. 이를 계산하는 프로그램을 작성하라.\n",
        "\n",
        "###입력\n",
        "첫 줄에 n (1 ≤ n ≤ 100,000)이 주어진다. 둘째 줄부터 n개의 줄에는 수열을 이루는 1이상 n이하의 정수가 하나씩 순서대로 주어진다. 물론 같은 정수가 두 번 나오는 일은 없다.\n",
        "\n",
        "###출력\n",
        "입력된 수열을 만들기 위해 필요한 연산을 한 줄에 한 개씩 출력한다. push연산은 +로, pop 연산은 -로 표현하도록 한다. 불가능한 경우 NO를 출력한다."
      ],
      "metadata": {
        "id": "B47nepszPt-z"
      }
    },
    {
      "cell_type": "code",
      "execution_count": 10,
      "metadata": {
        "colab": {
          "base_uri": "https://localhost:8080/"
        },
        "id": "VnvtUe3aPmuL",
        "outputId": "faa02922-8e16-4ce5-d19d-d92acebf6dae"
      },
      "outputs": [
        {
          "output_type": "stream",
          "name": "stdout",
          "text": [
            "8\n",
            "4\n",
            "3\n",
            "6\n",
            "8\n",
            "7\n",
            "5\n",
            "2\n",
            "1\n",
            "+\n",
            "+\n",
            "+\n",
            "+\n",
            "-\n",
            "-\n",
            "+\n",
            "+\n",
            "-\n",
            "+\n",
            "+\n",
            "-\n",
            "-\n",
            "-\n",
            "-\n",
            "-\n"
          ]
        }
      ],
      "source": [
        "n = int(input())#수열의 갯수\n",
        "a = list()\n",
        "for i in range(n):\n",
        "  b = int(input())\n",
        "  a.append(b)\n",
        "\n",
        "stack = list()\n",
        "num = 1\n",
        "result = True\n",
        "answer = ''\n",
        "\n",
        "for i in range(n):\n",
        "  if a[i] >= num:\n",
        "    while a[i] >= num:\n",
        "      stack.append(num)\n",
        "      num+=1\n",
        "      answer += '+'\n",
        "    stack.pop()\n",
        "    answer += '-'\n",
        "  else:\n",
        "    n = stack.pop()\n",
        "    if n > a[i]:\n",
        "      print('NO')\n",
        "      result = False\n",
        "      break\n",
        "    else:\n",
        "      answer += '-'\n",
        "\n",
        "if result:\n",
        "  for i in answer:\n",
        "    print(i)"
      ]
    },
    {
      "cell_type": "code",
      "source": [],
      "metadata": {
        "id": "N6Aj4zj3Xcqz"
      },
      "execution_count": null,
      "outputs": []
    }
  ]
}
